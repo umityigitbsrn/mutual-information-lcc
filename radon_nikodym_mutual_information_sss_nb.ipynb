{
 "cells": [
  {
   "cell_type": "code",
   "execution_count": 4,
   "outputs": [],
   "source": [
    "import numpy as np\n",
    "from scipy.special import digamma\n",
    "import math\n",
    "from domain import create_sss_dataset"
   ],
   "metadata": {
    "collapsed": false,
    "ExecuteTime": {
     "end_time": "2023-10-30T20:54:27.398992718Z",
     "start_time": "2023-10-30T20:54:27.125660529Z"
    }
   },
   "id": "408ec5b1cafbcd2"
  },
  {
   "cell_type": "code",
   "execution_count": 28,
   "id": "initial_id",
   "metadata": {
    "collapsed": true,
    "ExecuteTime": {
     "end_time": "2023-10-30T21:15:05.824904204Z",
     "start_time": "2023-10-30T21:15:05.823681230Z"
    }
   },
   "outputs": [],
   "source": [
    "def discrete_radon_nikodym_estimator(data, first_idx, second_idx):\n",
    "    # because we are working on discrete random variables distance threshold is zero\n",
    "    # therefore we will look at number of occurrences of one sample\n",
    "    xi = 0\n",
    "    for sample in data:\n",
    "        first, second = sample[first_idx], sample[second_idx]\n",
    "        first_count = np.count_nonzero((data[:, first_idx] == first))\n",
    "        second_count = np.count_nonzero((data[:, second_idx] == second))\n",
    "        count = np.count_nonzero((data == sample))\n",
    "        \n",
    "        curr_xi = digamma(count) + math.log(len(data)) - math.log(first_count + 1) - math.log(second_count + 1)\n",
    "        xi = xi + curr_xi\n",
    "    \n",
    "    return xi / len(data)"
   ]
  },
  {
   "cell_type": "code",
   "execution_count": 29,
   "outputs": [],
   "source": [
    "sss_data = create_sss_dataset(7, 7, 10000, 2)\n",
    "estimated_mi = discrete_radon_nikodym_estimator(sss_data, [0, 3], [6])"
   ],
   "metadata": {
    "collapsed": false,
    "ExecuteTime": {
     "end_time": "2023-10-30T21:15:07.552362201Z",
     "start_time": "2023-10-30T21:15:06.556446187Z"
    }
   },
   "id": "c4b13d3953573caa"
  },
  {
   "cell_type": "code",
   "execution_count": 30,
   "outputs": [
    {
     "data": {
      "text/plain": "3.6201049118211297"
     },
     "execution_count": 30,
     "metadata": {},
     "output_type": "execute_result"
    }
   ],
   "source": [
    "estimated_mi"
   ],
   "metadata": {
    "collapsed": false,
    "ExecuteTime": {
     "end_time": "2023-10-30T21:15:08.490353230Z",
     "start_time": "2023-10-30T21:15:08.487919573Z"
    }
   },
   "id": "3600eb71ddf82180"
  }
 ],
 "metadata": {
  "kernelspec": {
   "display_name": "Python 3",
   "language": "python",
   "name": "python3"
  },
  "language_info": {
   "codemirror_mode": {
    "name": "ipython",
    "version": 2
   },
   "file_extension": ".py",
   "mimetype": "text/x-python",
   "name": "python",
   "nbconvert_exporter": "python",
   "pygments_lexer": "ipython2",
   "version": "2.7.6"
  }
 },
 "nbformat": 4,
 "nbformat_minor": 5
}
