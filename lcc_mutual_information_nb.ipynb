{
 "cells": [
  {
   "cell_type": "code",
   "execution_count": 1,
   "id": "initial_id",
   "metadata": {
    "collapsed": true,
    "ExecuteTime": {
     "end_time": "2023-10-24T08:33:22.673508126Z",
     "start_time": "2023-10-24T08:33:22.406259559Z"
    }
   },
   "outputs": [],
   "source": [
    "from domain import create_lcc_domain\n",
    "from mutual_information import calculate_mutual_information_domain"
   ]
  },
  {
   "cell_type": "code",
   "execution_count": 2,
   "outputs": [
    {
     "name": "stdout",
     "output_type": "stream",
     "text": [
      "iteration 100/5488\n",
      "iteration 200/5488\n",
      "iteration 300/5488\n",
      "iteration 400/5488\n",
      "iteration 500/5488\n",
      "iteration 600/5488\n",
      "iteration 700/5488\n",
      "iteration 800/5488\n",
      "iteration 900/5488\n",
      "iteration 1000/5488\n",
      "iteration 1100/5488\n",
      "iteration 1200/5488\n",
      "iteration 1300/5488\n",
      "iteration 1400/5488\n",
      "iteration 1500/5488\n",
      "iteration 1600/5488\n",
      "iteration 1700/5488\n",
      "iteration 1800/5488\n",
      "iteration 1900/5488\n",
      "iteration 2000/5488\n",
      "iteration 2100/5488\n",
      "iteration 2200/5488\n",
      "iteration 2300/5488\n",
      "iteration 2400/5488\n",
      "iteration 2500/5488\n",
      "iteration 2600/5488\n",
      "iteration 2700/5488\n",
      "iteration 2800/5488\n",
      "iteration 2900/5488\n",
      "iteration 3000/5488\n",
      "iteration 3100/5488\n",
      "iteration 3200/5488\n",
      "iteration 3300/5488\n",
      "iteration 3400/5488\n",
      "iteration 3500/5488\n",
      "iteration 3600/5488\n",
      "iteration 3700/5488\n",
      "iteration 3800/5488\n",
      "iteration 3900/5488\n",
      "iteration 4000/5488\n",
      "iteration 4100/5488\n",
      "iteration 4200/5488\n",
      "iteration 4300/5488\n",
      "iteration 4400/5488\n",
      "iteration 4500/5488\n",
      "iteration 4600/5488\n",
      "iteration 4700/5488\n",
      "iteration 4800/5488\n",
      "iteration 4900/5488\n",
      "iteration 5000/5488\n",
      "iteration 5100/5488\n",
      "iteration 5200/5488\n",
      "iteration 5300/5488\n",
      "iteration 5400/5488\n"
     ]
    }
   ],
   "source": [
    "domain = create_lcc_domain(2, 2, 1, 7, [0, 1, 2])\n",
    "mutual_information_revealed_values = calculate_mutual_information_domain(domain, [0, 1, 3, 4], [6, 7, 8], [2, 2, 2, 2], [7, 7, 7])"
   ],
   "metadata": {
    "collapsed": false,
    "ExecuteTime": {
     "end_time": "2023-10-24T08:35:33.989124329Z",
     "start_time": "2023-10-24T08:35:02.543438499Z"
    }
   },
   "id": "309fb84eec586957"
  },
  {
   "cell_type": "code",
   "execution_count": 3,
   "outputs": [
    {
     "data": {
      "text/plain": "1.1246702892376177"
     },
     "execution_count": 3,
     "metadata": {},
     "output_type": "execute_result"
    }
   ],
   "source": [
    "mutual_information_revealed_values"
   ],
   "metadata": {
    "collapsed": false,
    "ExecuteTime": {
     "end_time": "2023-10-24T08:35:40.404433617Z",
     "start_time": "2023-10-24T08:35:40.396607481Z"
    }
   },
   "id": "8208107bdb02bde9"
  },
  {
   "cell_type": "code",
   "execution_count": null,
   "outputs": [],
   "source": [
    "mutual_information_all_values = calculate_mutual_information_domain(domain, [0, 1, 3, 4], [6, 7, 8, 9, 10, 11, 12, 13], [2, 2, 2, 2], [7, 7, 7, 7, 7, 7, 7, 7])"
   ],
   "metadata": {
    "collapsed": false
   },
   "id": "f65d5444ad3242b5"
  }
 ],
 "metadata": {
  "kernelspec": {
   "display_name": "Python 3",
   "language": "python",
   "name": "python3"
  },
  "language_info": {
   "codemirror_mode": {
    "name": "ipython",
    "version": 2
   },
   "file_extension": ".py",
   "mimetype": "text/x-python",
   "name": "python",
   "nbconvert_exporter": "python",
   "pygments_lexer": "ipython2",
   "version": "2.7.6"
  }
 },
 "nbformat": 4,
 "nbformat_minor": 5
}
