{
 "cells": [
  {
   "cell_type": "code",
   "execution_count": 2,
   "id": "initial_id",
   "metadata": {
    "ExecuteTime": {
     "end_time": "2023-10-24T08:33:22.673508126Z",
     "start_time": "2023-10-24T08:33:22.406259559Z"
    },
    "collapsed": true
   },
   "outputs": [
    {
     "ename": "ModuleNotFoundError",
     "evalue": "No module named 'galois'",
     "output_type": "error",
     "traceback": [
      "\u001b[0;31m---------------------------------------------------------------------------\u001b[0m",
      "\u001b[0;31mModuleNotFoundError\u001b[0m                       Traceback (most recent call last)",
      "\u001b[0;32m<ipython-input-2-f2e54b261b4b>\u001b[0m in \u001b[0;36m<module>\u001b[0;34m\u001b[0m\n\u001b[0;32m----> 1\u001b[0;31m \u001b[0;32mfrom\u001b[0m \u001b[0mdomain\u001b[0m \u001b[0;32mimport\u001b[0m \u001b[0mcreate_lcc_domain\u001b[0m\u001b[0;34m\u001b[0m\u001b[0;34m\u001b[0m\u001b[0m\n\u001b[0m\u001b[1;32m      2\u001b[0m \u001b[0;32mfrom\u001b[0m \u001b[0mmutual_information\u001b[0m \u001b[0;32mimport\u001b[0m \u001b[0mcalculate_mutual_information_domain\u001b[0m\u001b[0;34m\u001b[0m\u001b[0;34m\u001b[0m\u001b[0m\n",
      "\u001b[0;32m~/Desktop/umityigitbsrn/mutual-information-lcc/domain.py\u001b[0m in \u001b[0;36m<module>\u001b[0;34m\u001b[0m\n\u001b[0;32m----> 1\u001b[0;31m \u001b[0;32mfrom\u001b[0m \u001b[0mpolynomials\u001b[0m \u001b[0;32mimport\u001b[0m \u001b[0mInterpolatedPoly\u001b[0m\u001b[0;34m\u001b[0m\u001b[0;34m\u001b[0m\u001b[0m\n\u001b[0m\u001b[1;32m      2\u001b[0m \u001b[0;32mimport\u001b[0m \u001b[0mnumpy\u001b[0m \u001b[0;32mas\u001b[0m \u001b[0mnp\u001b[0m\u001b[0;34m\u001b[0m\u001b[0;34m\u001b[0m\u001b[0m\n\u001b[1;32m      3\u001b[0m \u001b[0;32mimport\u001b[0m \u001b[0mitertools\u001b[0m\u001b[0;34m\u001b[0m\u001b[0;34m\u001b[0m\u001b[0m\n\u001b[1;32m      4\u001b[0m \u001b[0;34m\u001b[0m\u001b[0m\n\u001b[1;32m      5\u001b[0m \u001b[0;34m\u001b[0m\u001b[0m\n",
      "\u001b[0;32m~/Desktop/umityigitbsrn/mutual-information-lcc/polynomials.py\u001b[0m in \u001b[0;36m<module>\u001b[0;34m\u001b[0m\n\u001b[1;32m      1\u001b[0m \u001b[0;32mimport\u001b[0m \u001b[0mnumpy\u001b[0m \u001b[0;32mas\u001b[0m \u001b[0mnp\u001b[0m\u001b[0;34m\u001b[0m\u001b[0;34m\u001b[0m\u001b[0m\n\u001b[1;32m      2\u001b[0m \u001b[0;34m\u001b[0m\u001b[0m\n\u001b[0;32m----> 3\u001b[0;31m \u001b[0;32mfrom\u001b[0m \u001b[0mutils\u001b[0m \u001b[0;32mimport\u001b[0m \u001b[0mpoly_coefficients\u001b[0m\u001b[0;34m,\u001b[0m \u001b[0mfinite_field_division\u001b[0m\u001b[0;34m,\u001b[0m \u001b[0mpol_mul_mod\u001b[0m\u001b[0;34m\u001b[0m\u001b[0;34m\u001b[0m\u001b[0m\n\u001b[0m\u001b[1;32m      4\u001b[0m \u001b[0;34m\u001b[0m\u001b[0m\n\u001b[1;32m      5\u001b[0m \u001b[0;34m\u001b[0m\u001b[0m\n",
      "\u001b[0;32m~/Desktop/umityigitbsrn/mutual-information-lcc/utils.py\u001b[0m in \u001b[0;36m<module>\u001b[0;34m\u001b[0m\n\u001b[1;32m      1\u001b[0m \u001b[0;32mimport\u001b[0m \u001b[0mnumpy\u001b[0m \u001b[0;32mas\u001b[0m \u001b[0mnp\u001b[0m\u001b[0;34m\u001b[0m\u001b[0;34m\u001b[0m\u001b[0m\n\u001b[0;32m----> 2\u001b[0;31m \u001b[0;32mimport\u001b[0m \u001b[0mgalois\u001b[0m\u001b[0;34m\u001b[0m\u001b[0;34m\u001b[0m\u001b[0m\n\u001b[0m\u001b[1;32m      3\u001b[0m \u001b[0;34m\u001b[0m\u001b[0m\n\u001b[1;32m      4\u001b[0m \u001b[0;34m\u001b[0m\u001b[0m\n\u001b[1;32m      5\u001b[0m \u001b[0;31m# utils\u001b[0m\u001b[0;34m\u001b[0m\u001b[0;34m\u001b[0m\u001b[0;34m\u001b[0m\u001b[0m\n",
      "\u001b[0;31mModuleNotFoundError\u001b[0m: No module named 'galois'"
     ]
    }
   ],
   "source": [
    "from domain import create_lcc_domain\n",
    "from mutual_information import calculate_mutual_information_domain"
   ]
  },
  {
   "cell_type": "code",
   "execution_count": 2,
   "id": "309fb84eec586957",
   "metadata": {
    "ExecuteTime": {
     "end_time": "2023-10-24T08:35:33.989124329Z",
     "start_time": "2023-10-24T08:35:02.543438499Z"
    },
    "collapsed": false
   },
   "outputs": [
    {
     "name": "stdout",
     "output_type": "stream",
     "text": [
      "iteration 100/5488\n",
      "iteration 200/5488\n",
      "iteration 300/5488\n",
      "iteration 400/5488\n",
      "iteration 500/5488\n",
      "iteration 600/5488\n",
      "iteration 700/5488\n",
      "iteration 800/5488\n",
      "iteration 900/5488\n",
      "iteration 1000/5488\n",
      "iteration 1100/5488\n",
      "iteration 1200/5488\n",
      "iteration 1300/5488\n",
      "iteration 1400/5488\n",
      "iteration 1500/5488\n",
      "iteration 1600/5488\n",
      "iteration 1700/5488\n",
      "iteration 1800/5488\n",
      "iteration 1900/5488\n",
      "iteration 2000/5488\n",
      "iteration 2100/5488\n",
      "iteration 2200/5488\n",
      "iteration 2300/5488\n",
      "iteration 2400/5488\n",
      "iteration 2500/5488\n",
      "iteration 2600/5488\n",
      "iteration 2700/5488\n",
      "iteration 2800/5488\n",
      "iteration 2900/5488\n",
      "iteration 3000/5488\n",
      "iteration 3100/5488\n",
      "iteration 3200/5488\n",
      "iteration 3300/5488\n",
      "iteration 3400/5488\n",
      "iteration 3500/5488\n",
      "iteration 3600/5488\n",
      "iteration 3700/5488\n",
      "iteration 3800/5488\n",
      "iteration 3900/5488\n",
      "iteration 4000/5488\n",
      "iteration 4100/5488\n",
      "iteration 4200/5488\n",
      "iteration 4300/5488\n",
      "iteration 4400/5488\n",
      "iteration 4500/5488\n",
      "iteration 4600/5488\n",
      "iteration 4700/5488\n",
      "iteration 4800/5488\n",
      "iteration 4900/5488\n",
      "iteration 5000/5488\n",
      "iteration 5100/5488\n",
      "iteration 5200/5488\n",
      "iteration 5300/5488\n",
      "iteration 5400/5488\n"
     ]
    }
   ],
   "source": [
    "domain = create_lcc_domain(2, 2, 1, 7, [0, 1, 2])\n",
    "mutual_information_revealed_values = calculate_mutual_information_domain(domain, [0, 1, 3, 4], [6, 7, 8], [2, 2, 2, 2], [7, 7, 7])"
   ]
  },
  {
   "cell_type": "code",
   "execution_count": 3,
   "id": "8208107bdb02bde9",
   "metadata": {
    "ExecuteTime": {
     "end_time": "2023-10-24T08:35:40.404433617Z",
     "start_time": "2023-10-24T08:35:40.396607481Z"
    },
    "collapsed": false
   },
   "outputs": [
    {
     "data": {
      "text/plain": [
       "1.1246702892376177"
      ]
     },
     "execution_count": 3,
     "metadata": {},
     "output_type": "execute_result"
    }
   ],
   "source": [
    "mutual_information_revealed_values"
   ]
  },
  {
   "cell_type": "code",
   "execution_count": null,
   "id": "f65d5444ad3242b5",
   "metadata": {
    "collapsed": false
   },
   "outputs": [],
   "source": [
    "mutual_information_all_values = calculate_mutual_information_domain(domain, [0, 1, 3, 4], [6, 7, 8, 9, 10, 11, 12, 13], [2, 2, 2, 2], [7, 7, 7, 7, 7, 7, 7, 7])"
   ]
  }
 ],
 "metadata": {
  "kernelspec": {
   "display_name": "Python 3",
   "language": "python",
   "name": "python3"
  },
  "language_info": {
   "codemirror_mode": {
    "name": "ipython",
    "version": 3
   },
   "file_extension": ".py",
   "mimetype": "text/x-python",
   "name": "python",
   "nbconvert_exporter": "python",
   "pygments_lexer": "ipython3",
   "version": "3.8.10"
  }
 },
 "nbformat": 4,
 "nbformat_minor": 5
}
