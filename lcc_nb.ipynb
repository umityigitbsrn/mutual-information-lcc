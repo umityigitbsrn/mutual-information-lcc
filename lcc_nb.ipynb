{
 "cells": [
  {
   "cell_type": "code",
   "execution_count": 11,
   "id": "initial_id",
   "metadata": {
    "collapsed": true,
    "ExecuteTime": {
     "end_time": "2023-10-20T21:34:01.087685592Z",
     "start_time": "2023-10-20T21:34:01.054409978Z"
    }
   },
   "outputs": [],
   "source": [
    "# LCC implementation\n",
    "import numpy as np\n",
    "import galois"
   ]
  },
  {
   "cell_type": "code",
   "execution_count": 74,
   "outputs": [],
   "source": [
    "# utils\n",
    "def modulo_inverse(x, p):\n",
    "    return pow(x, -1, p)\n",
    "\n",
    "def finite_field_division(quotient, dividend, p):\n",
    "    # find modulo inverse of dividend and multiply with the quotient\n",
    "    mod_inv_div = modulo_inverse(dividend, p)\n",
    "    return (mod_inv_div * quotient) % p\n",
    "\n",
    "def poly_coefficients(evaluated_points, evaluation_points, p):\n",
    "    vander_matrix = np.vander(evaluation_points, increasing=True) % p\n",
    "    galois_field = galois.GF(p)\n",
    "    vander_matrix = galois_field(vander_matrix)\n",
    "    inv_vander_matrix = np.linalg.inv(vander_matrix)\n",
    "    \n",
    "    evaluated_points_in_field = galois_field(np.asarray(evaluated_points)[:, np.newaxis])\n",
    "    \n",
    "    return inv_vander_matrix @ evaluated_points_in_field"
   ],
   "metadata": {
    "collapsed": false,
    "ExecuteTime": {
     "end_time": "2023-10-20T22:55:28.262581216Z",
     "start_time": "2023-10-20T22:55:28.219217159Z"
    }
   },
   "id": "e80dec2dd075fe25"
  },
  {
   "cell_type": "code",
   "execution_count": 75,
   "outputs": [],
   "source": [
    "# lagrange coded computing polynomial \n",
    "class LCCPoly(object):\n",
    "    def __init__(self, beta_arr, secret_arr, K, T, p):\n",
    "        self.K = K\n",
    "        self.T = T\n",
    "        self.p = p\n",
    "        self.beta_arr = beta_arr\n",
    "        self.secret_arr = secret_arr\n",
    "        self.degree = K + T\n",
    "        \n",
    "        self._random_arr = []\n",
    "        self.__fill_random_arr()\n",
    "    \n",
    "    def __fill_random_arr(self):\n",
    "        for j in range(self.K, self.K + self.T):\n",
    "            self._random_arr.append(np.random.randint(0, high=self.p))\n",
    "    \n",
    "    @property\n",
    "    def random_arr(self):\n",
    "        return self._random_arr\n",
    "        \n",
    "    def __call__(self, evaluation_point, *args, **kwargs):\n",
    "        result = 0\n",
    "        for j in range(self.K):\n",
    "            curr_secret = self.secret_arr[j]\n",
    "            curr_mul = 1\n",
    "            for k in range(self.K + self.T):\n",
    "                if k == j:\n",
    "                    continue\n",
    "                else:\n",
    "                    first = (evaluation_point - self.beta_arr[k]) % self.p\n",
    "                    second = (self.beta_arr[j] - self.beta_arr[k]) % self.p\n",
    "                    curr_mul = (curr_mul * finite_field_division(first, second, self.p)) % self.p\n",
    "            result = (result + ((curr_secret * curr_mul) % self.p)) % self.p\n",
    "        for j in range(self.K, self.K + self.T):\n",
    "            curr_random = self._random_arr[j - self.K]\n",
    "            curr_mul = 1\n",
    "            for k in range(self.K + self.T):\n",
    "                if k == j:\n",
    "                    continue\n",
    "                else:\n",
    "                    first = (evaluation_point - self.beta_arr[k]) % self.p\n",
    "                    second = (self.beta_arr[j] - self.beta_arr[k]) % self.p\n",
    "                    curr_mul = (curr_mul * finite_field_division(first, second, self.p)) % self.p\n",
    "            result = (result + ((curr_random * curr_mul) % self.p)) % self.p\n",
    "        return result\n",
    "    \n",
    "class InterpolatedPoly(object):\n",
    "    def __init__(self, evaluated_points, evaluation_points, p):\n",
    "        self.evaluated_points = evaluated_points\n",
    "        self.evaluation_points = evaluation_points\n",
    "        self.p = p\n",
    "        \n",
    "    def __call__(self, evaluation_point, *args, **kwargs):\n",
    "        result = 0\n",
    "        for j in range(len(self.evaluated_points)):\n",
    "            curr_secret = self.evaluated_points[j]\n",
    "            curr_mul = 1\n",
    "            for k in range(len(self.evaluated_points)):\n",
    "                if k == j:\n",
    "                    continue\n",
    "                else:\n",
    "                    first = (evaluation_point - self.evaluation_points[k]) % self.p\n",
    "                    second = (self.evaluation_points[j] - self.evaluation_points[k]) % self.p\n",
    "                    curr_mul = (curr_mul * finite_field_division(first, second, self.p)) % self.p\n",
    "            result = (result + ((curr_secret * curr_mul) % self.p)) % self.p\n",
    "        return result"
   ],
   "metadata": {
    "collapsed": false,
    "ExecuteTime": {
     "end_time": "2023-10-20T22:55:29.053568893Z",
     "start_time": "2023-10-20T22:55:29.052080023Z"
    }
   },
   "id": "44826cb395bccbc9"
  },
  {
   "cell_type": "code",
   "execution_count": 78,
   "outputs": [
    {
     "data": {
      "text/plain": "GF([[3],\n    [1],\n    [0]], order=7)"
     },
     "execution_count": 78,
     "metadata": {},
     "output_type": "execute_result"
    }
   ],
   "source": [
    "tmp_poly = LCCPoly([0, 1, 2], [3, 4], 2, 1, 7)\n",
    "poly_coefficients([tmp_poly(4), tmp_poly(5), tmp_poly(2)], [4, 5, 2], 7)"
   ],
   "metadata": {
    "collapsed": false,
    "ExecuteTime": {
     "end_time": "2023-10-20T22:59:52.782759864Z",
     "start_time": "2023-10-20T22:59:52.775701563Z"
    }
   },
   "id": "51aa6b15c9415db3"
  },
  {
   "cell_type": "code",
   "execution_count": 80,
   "outputs": [
    {
     "data": {
      "text/plain": "GF([[3],\n    [1],\n    [0]], order=7)"
     },
     "execution_count": 80,
     "metadata": {},
     "output_type": "execute_result"
    }
   ],
   "source": [
    "poly_coefficients([tmp_poly(3), tmp_poly(6), tmp_poly(5)], [3, 6, 5], 7)"
   ],
   "metadata": {
    "collapsed": false,
    "ExecuteTime": {
     "end_time": "2023-10-20T23:01:12.451092372Z",
     "start_time": "2023-10-20T23:01:12.449512702Z"
    }
   },
   "id": "15f611b2bbf8e9e7"
  },
  {
   "cell_type": "code",
   "execution_count": null,
   "outputs": [],
   "source": [
    "# lagrange coded computing equation\n",
    "\n",
    "# constants\n",
    "parallelization_param_K = 2\n",
    "privacy_param_T = 1\n",
    "finite_field_size_p = 5\n",
    "\n",
    "\n"
   ],
   "metadata": {
    "collapsed": false
   },
   "id": "ac60b309b1a13ff7"
  },
  {
   "cell_type": "code",
   "execution_count": 69,
   "outputs": [
    {
     "name": "stderr",
     "output_type": "stream",
     "text": [
      "/home/umityigitbsrn/miniconda3/envs/pytorch-stable/lib/python3.10/site-packages/scipy/__init__.py:146: UserWarning: A NumPy version >=1.16.5 and <1.23.0 is required for this version of SciPy (detected version 1.23.5\n",
      "  warnings.warn(f\"A NumPy version >={np_minversion} and <{np_maxversion}\"\n",
      "OMP: Info #276: omp_set_nested routine deprecated, please use omp_set_max_active_levels instead.\n"
     ]
    }
   ],
   "source": [
    "import galois\n",
    "\n",
    "field = galois.GF(7)\n",
    "tmp_matrix = np.asarray([[3, 4, 2],\n",
    "                         [6, 5, 1],\n",
    "                         [0, 3, 4]])\n",
    "tmp_matrix = field(tmp_matrix)\n",
    "inv_tmp_matrix = np.linalg.inv(tmp_matrix)"
   ],
   "metadata": {
    "collapsed": false,
    "ExecuteTime": {
     "end_time": "2023-10-20T22:46:23.485062118Z",
     "start_time": "2023-10-20T22:46:22.506242768Z"
    }
   },
   "id": "6891d5ee6482f13a"
  },
  {
   "cell_type": "code",
   "execution_count": 70,
   "outputs": [
    {
     "data": {
      "text/plain": "GF([[3, 4, 2],\n    [6, 5, 1],\n    [0, 3, 4]], order=7)"
     },
     "execution_count": 70,
     "metadata": {},
     "output_type": "execute_result"
    }
   ],
   "source": [
    "tmp_matrix"
   ],
   "metadata": {
    "collapsed": false,
    "ExecuteTime": {
     "end_time": "2023-10-20T22:46:30.790376641Z",
     "start_time": "2023-10-20T22:46:30.777648631Z"
    }
   },
   "id": "ee7ce02885fe2099"
  },
  {
   "cell_type": "code",
   "execution_count": 72,
   "outputs": [
    {
     "data": {
      "text/plain": "GF([[1, 0, 0],\n    [0, 1, 0],\n    [0, 0, 1]], order=7)"
     },
     "execution_count": 72,
     "metadata": {},
     "output_type": "execute_result"
    }
   ],
   "source": [
    "inv_tmp_matrix @ tmp_matrix"
   ],
   "metadata": {
    "collapsed": false,
    "ExecuteTime": {
     "end_time": "2023-10-20T22:47:04.398545217Z",
     "start_time": "2023-10-20T22:47:04.356263681Z"
    }
   },
   "id": "5a3c818654f1f34d"
  }
 ],
 "metadata": {
  "kernelspec": {
   "display_name": "Python 3",
   "language": "python",
   "name": "python3"
  },
  "language_info": {
   "codemirror_mode": {
    "name": "ipython",
    "version": 2
   },
   "file_extension": ".py",
   "mimetype": "text/x-python",
   "name": "python",
   "nbconvert_exporter": "python",
   "pygments_lexer": "ipython2",
   "version": "2.7.6"
  }
 },
 "nbformat": 4,
 "nbformat_minor": 5
}
