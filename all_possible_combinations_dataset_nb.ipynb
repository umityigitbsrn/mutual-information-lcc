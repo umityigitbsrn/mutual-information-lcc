{
 "cells": [
  {
   "cell_type": "code",
   "execution_count": 1,
   "id": "initial_id",
   "metadata": {
    "collapsed": true,
    "ExecuteTime": {
     "end_time": "2023-10-24T08:24:58.351152761Z",
     "start_time": "2023-10-24T08:24:58.078306134Z"
    }
   },
   "outputs": [],
   "source": [
    "from polynomials import InterpolatedPoly\n",
    "import numpy as np\n",
    "import itertools"
   ]
  },
  {
   "cell_type": "code",
   "execution_count": 6,
   "outputs": [],
   "source": [
    "def create_lcc_domain(K, data_range, T, prime, beta_arr):\n",
    "    data_range_domain = np.arange(data_range)\n",
    "    random_range_domain = np.arange(prime)\n",
    "    data_range_domain = [data_range_domain for _ in range(K)]\n",
    "    random_range_domain = [random_range_domain for _ in range(T)]\n",
    "    secret_random_domain_generator = itertools.product(*data_range_domain, *random_range_domain, *data_range_domain, *random_range_domain)\n",
    "    \n",
    "    domain_size = ((data_range ** K) * (prime ** T)) ** 2\n",
    "    domain_feature_size = 3 * (K + T) + 2 * (K + T - 1) + 1\n",
    "    domain = np.empty((domain_size, domain_feature_size))\n",
    "    \n",
    "    for idx, secret_random in enumerate(secret_random_domain_generator):\n",
    "        secret_random = list(secret_random)\n",
    "        domain[idx, :(2*(K+T))] = secret_random\n",
    "        first_interpolated_poly = InterpolatedPoly(secret_random[:(K + T)], beta_arr, prime)\n",
    "        second_interpolated_poly = InterpolatedPoly(secret_random[(K + T):], beta_arr, prime)\n",
    "        multiplied_poly = first_interpolated_poly * second_interpolated_poly\n",
    "        for beta_idx, beta in enumerate(beta_arr):\n",
    "            domain[idx, (2*(K+T)) + beta_idx] = multiplied_poly(beta)\n",
    "            \n",
    "        domain[idx, (3*(K+T)):] = multiplied_poly.coefficients\n",
    "    \n",
    "    return domain"
   ],
   "metadata": {
    "collapsed": false,
    "ExecuteTime": {
     "end_time": "2023-10-24T08:26:19.145150816Z",
     "start_time": "2023-10-24T08:26:19.086755269Z"
    }
   },
   "id": "7a03fa8cb8db15c3"
  },
  {
   "cell_type": "code",
   "execution_count": 8,
   "outputs": [
    {
     "name": "stdout",
     "output_type": "stream",
     "text": [
      "[[0. 0. 0. ... 0. 0. 0.]\n",
      " [0. 0. 0. ... 0. 0. 0.]\n",
      " [0. 0. 0. ... 0. 0. 0.]\n",
      " ...\n",
      " [1. 1. 6. ... 6. 3. 2.]\n",
      " [1. 1. 6. ... 6. 4. 5.]\n",
      " [1. 1. 6. ... 6. 5. 1.]]\n"
     ]
    }
   ],
   "source": [
    "print(create_lcc_domain(2, 2, 1, 7, [0, 1, 2]))"
   ],
   "metadata": {
    "collapsed": false,
    "ExecuteTime": {
     "end_time": "2023-10-24T08:31:47.587854051Z",
     "start_time": "2023-10-24T08:31:46.918803863Z"
    }
   },
   "id": "62b7e1ab69a018eb"
  }
 ],
 "metadata": {
  "kernelspec": {
   "display_name": "Python 3",
   "language": "python",
   "name": "python3"
  },
  "language_info": {
   "codemirror_mode": {
    "name": "ipython",
    "version": 2
   },
   "file_extension": ".py",
   "mimetype": "text/x-python",
   "name": "python",
   "nbconvert_exporter": "python",
   "pygments_lexer": "ipython2",
   "version": "2.7.6"
  }
 },
 "nbformat": 4,
 "nbformat_minor": 5
}
